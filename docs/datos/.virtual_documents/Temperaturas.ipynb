library(ggplot2)


df <- read.csv("temperaturas.csv")


df |> ggplot(aes(x = Día, y = Temperatura, color = Ciudad) +
             geom_line()



