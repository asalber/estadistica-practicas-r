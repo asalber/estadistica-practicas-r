{
 "cells": [
  {
   "cell_type": "code",
   "execution_count": null,
   "id": "2c283c47-fc00-4d0e-93ba-0a2e6a5483f0",
   "metadata": {},
   "outputs": [],
   "source": []
  }
 ],
 "metadata": {
  "kernelspec": {
   "display_name": "",
   "name": ""
  },
  "language_info": {
   "name": ""
  }
 },
 "nbformat": 4,
 "nbformat_minor": 5
}
